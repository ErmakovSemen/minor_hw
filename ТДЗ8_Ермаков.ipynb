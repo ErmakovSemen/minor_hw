{
 "cells": [
  {
   "cell_type": "code",
   "execution_count": 3,
   "id": "5b799271",
   "metadata": {},
   "outputs": [],
   "source": [
    "import pandas as pd\n",
    "import matplotlib.pyplot as plt\n",
    "import numpy as np"
   ]
  },
  {
   "cell_type": "code",
   "execution_count": 2,
   "id": "6ca1ca8f",
   "metadata": {},
   "outputs": [
    {
     "name": "stdout",
     "output_type": "stream",
     "text": [
      "Requirement already satisfied: matplotlib in c:\\users\\milas\\appdata\\local\\packages\\pythonsoftwarefoundation.python.3.11_qbz5n2kfra8p0\\localcache\\local-packages\\python311\\site-packages (3.9.0)\n",
      "Requirement already satisfied: contourpy>=1.0.1 in c:\\users\\milas\\appdata\\local\\packages\\pythonsoftwarefoundation.python.3.11_qbz5n2kfra8p0\\localcache\\local-packages\\python311\\site-packages (from matplotlib) (1.2.1)\n",
      "Requirement already satisfied: cycler>=0.10 in c:\\users\\milas\\appdata\\local\\packages\\pythonsoftwarefoundation.python.3.11_qbz5n2kfra8p0\\localcache\\local-packages\\python311\\site-packages (from matplotlib) (0.12.1)\n",
      "Requirement already satisfied: fonttools>=4.22.0 in c:\\users\\milas\\appdata\\local\\packages\\pythonsoftwarefoundation.python.3.11_qbz5n2kfra8p0\\localcache\\local-packages\\python311\\site-packages (from matplotlib) (4.53.0)\n",
      "Requirement already satisfied: kiwisolver>=1.3.1 in c:\\users\\milas\\appdata\\local\\packages\\pythonsoftwarefoundation.python.3.11_qbz5n2kfra8p0\\localcache\\local-packages\\python311\\site-packages (from matplotlib) (1.4.5)\n",
      "Requirement already satisfied: numpy>=1.23 in c:\\users\\milas\\appdata\\local\\packages\\pythonsoftwarefoundation.python.3.11_qbz5n2kfra8p0\\localcache\\local-packages\\python311\\site-packages (from matplotlib) (2.0.0)\n",
      "Requirement already satisfied: packaging>=20.0 in c:\\users\\milas\\appdata\\local\\packages\\pythonsoftwarefoundation.python.3.11_qbz5n2kfra8p0\\localcache\\local-packages\\python311\\site-packages (from matplotlib) (24.1)\n",
      "Requirement already satisfied: pillow>=8 in c:\\users\\milas\\appdata\\local\\packages\\pythonsoftwarefoundation.python.3.11_qbz5n2kfra8p0\\localcache\\local-packages\\python311\\site-packages (from matplotlib) (10.3.0)\n",
      "Requirement already satisfied: pyparsing>=2.3.1 in c:\\users\\milas\\appdata\\local\\packages\\pythonsoftwarefoundation.python.3.11_qbz5n2kfra8p0\\localcache\\local-packages\\python311\\site-packages (from matplotlib) (3.1.2)\n",
      "Requirement already satisfied: python-dateutil>=2.7 in c:\\users\\milas\\appdata\\local\\packages\\pythonsoftwarefoundation.python.3.11_qbz5n2kfra8p0\\localcache\\local-packages\\python311\\site-packages (from matplotlib) (2.9.0.post0)\n",
      "Requirement already satisfied: six>=1.5 in c:\\users\\milas\\appdata\\local\\packages\\pythonsoftwarefoundation.python.3.11_qbz5n2kfra8p0\\localcache\\local-packages\\python311\\site-packages (from python-dateutil>=2.7->matplotlib) (1.16.0)\n"
     ]
    }
   ],
   "source": [
    "# !pip install arch numpy matplotlib\n",
    "!pip install matplotlib"
   ]
  },
  {
   "cell_type": "markdown",
   "id": "113dd9e0",
   "metadata": {},
   "source": [
    "Рассмотрим данные об общей численности населения (**population size**), чистой миграции (**net migration**) и общий коэффициент рождаемости (**fertility rate**) по годам в РФ."
   ]
  },
  {
   "cell_type": "code",
   "execution_count": 6,
   "id": "bf85e0ae",
   "metadata": {},
   "outputs": [
    {
     "data": {
      "text/html": [
       "<div>\n",
       "<style scoped>\n",
       "    .dataframe tbody tr th:only-of-type {\n",
       "        vertical-align: middle;\n",
       "    }\n",
       "\n",
       "    .dataframe tbody tr th {\n",
       "        vertical-align: top;\n",
       "    }\n",
       "\n",
       "    .dataframe thead th {\n",
       "        text-align: right;\n",
       "    }\n",
       "</style>\n",
       "<table border=\"1\" class=\"dataframe\">\n",
       "  <thead>\n",
       "    <tr style=\"text-align: right;\">\n",
       "      <th></th>\n",
       "      <th>year</th>\n",
       "      <th>factory</th>\n",
       "      <th>agro</th>\n",
       "      <th>import</th>\n",
       "    </tr>\n",
       "  </thead>\n",
       "  <tbody>\n",
       "    <tr>\n",
       "      <th>0</th>\n",
       "      <td>1989</td>\n",
       "      <td>46,59685864</td>\n",
       "      <td>15,60209424</td>\n",
       "      <td>21,0122164</td>\n",
       "    </tr>\n",
       "    <tr>\n",
       "      <th>1</th>\n",
       "      <td>1990</td>\n",
       "      <td>45,00357032</td>\n",
       "      <td>15,46103695</td>\n",
       "      <td>17,94473766</td>\n",
       "    </tr>\n",
       "    <tr>\n",
       "      <th>2</th>\n",
       "      <td>1991</td>\n",
       "      <td>45,8648552</td>\n",
       "      <td>13,77189846</td>\n",
       "      <td>12,98534144</td>\n",
       "    </tr>\n",
       "    <tr>\n",
       "      <th>3</th>\n",
       "      <td>1992</td>\n",
       "      <td>42,25027144</td>\n",
       "      <td>7,263364019</td>\n",
       "      <td>48,25460284</td>\n",
       "    </tr>\n",
       "    <tr>\n",
       "      <th>4</th>\n",
       "      <td>1993</td>\n",
       "      <td>40,52550522</td>\n",
       "      <td>7,557203778</td>\n",
       "      <td>30,49384876</td>\n",
       "    </tr>\n",
       "    <tr>\n",
       "      <th>5</th>\n",
       "      <td>1994</td>\n",
       "      <td>41,21529267</td>\n",
       "      <td>6,109561032</td>\n",
       "      <td>23,19533361</td>\n",
       "    </tr>\n",
       "    <tr>\n",
       "      <th>6</th>\n",
       "      <td>1995</td>\n",
       "      <td>34,53919264</td>\n",
       "      <td>6,692231083</td>\n",
       "      <td>25,89389412</td>\n",
       "    </tr>\n",
       "    <tr>\n",
       "      <th>7</th>\n",
       "      <td>1996</td>\n",
       "      <td>35,34670425</td>\n",
       "      <td>6,549375242</td>\n",
       "      <td>21,84951269</td>\n",
       "    </tr>\n",
       "    <tr>\n",
       "      <th>8</th>\n",
       "      <td>1997</td>\n",
       "      <td>34,68922704</td>\n",
       "      <td>5,869762144</td>\n",
       "      <td>22,52707988</td>\n",
       "    </tr>\n",
       "    <tr>\n",
       "      <th>9</th>\n",
       "      <td>1998</td>\n",
       "      <td>33,94402924</td>\n",
       "      <td>5,103393148</td>\n",
       "      <td>24,55104781</td>\n",
       "    </tr>\n",
       "    <tr>\n",
       "      <th>10</th>\n",
       "      <td>1999</td>\n",
       "      <td>33,49620125</td>\n",
       "      <td>6,580647609</td>\n",
       "      <td>26,17331299</td>\n",
       "    </tr>\n",
       "    <tr>\n",
       "      <th>11</th>\n",
       "      <td>2000</td>\n",
       "      <td>33,91897032</td>\n",
       "      <td>5,751715628</td>\n",
       "      <td>24,03346573</td>\n",
       "    </tr>\n",
       "    <tr>\n",
       "      <th>12</th>\n",
       "      <td>2001</td>\n",
       "      <td>31,83735412</td>\n",
       "      <td>5,875721568</td>\n",
       "      <td>24,21736507</td>\n",
       "    </tr>\n",
       "    <tr>\n",
       "      <th>13</th>\n",
       "      <td>2002</td>\n",
       "      <td>29,05639281</td>\n",
       "      <td>5,565713753</td>\n",
       "      <td>24,43285167</td>\n",
       "    </tr>\n",
       "    <tr>\n",
       "      <th>14</th>\n",
       "      <td>2003</td>\n",
       "      <td>28,65313499</td>\n",
       "      <td>5,502946052</td>\n",
       "      <td>23,87828723</td>\n",
       "    </tr>\n",
       "    <tr>\n",
       "      <th>15</th>\n",
       "      <td>2004</td>\n",
       "      <td>31,70222243</td>\n",
       "      <td>4,904441948</td>\n",
       "      <td>22,16396134</td>\n",
       "    </tr>\n",
       "    <tr>\n",
       "      <th>16</th>\n",
       "      <td>2005</td>\n",
       "      <td>32,62923207</td>\n",
       "      <td>4,255916006</td>\n",
       "      <td>21,51018253</td>\n",
       "    </tr>\n",
       "    <tr>\n",
       "      <th>17</th>\n",
       "      <td>2006</td>\n",
       "      <td>31,78026059</td>\n",
       "      <td>3,861312471</td>\n",
       "      <td>21,00292642</td>\n",
       "    </tr>\n",
       "    <tr>\n",
       "      <th>18</th>\n",
       "      <td>2007</td>\n",
       "      <td>31,2220408</td>\n",
       "      <td>3,778901706</td>\n",
       "      <td>21,54206226</td>\n",
       "    </tr>\n",
       "    <tr>\n",
       "      <th>19</th>\n",
       "      <td>2008</td>\n",
       "      <td>30,7868817</td>\n",
       "      <td>3,753341188</td>\n",
       "      <td>22,07290571</td>\n",
       "    </tr>\n",
       "    <tr>\n",
       "      <th>20</th>\n",
       "      <td>2009</td>\n",
       "      <td>29,32693903</td>\n",
       "      <td>4,084448697</td>\n",
       "      <td>20,49695982</td>\n",
       "    </tr>\n",
       "    <tr>\n",
       "      <th>21</th>\n",
       "      <td>2010</td>\n",
       "      <td>29,99958822</td>\n",
       "      <td>3,343898249</td>\n",
       "      <td>21,1399447</td>\n",
       "    </tr>\n",
       "    <tr>\n",
       "      <th>22</th>\n",
       "      <td>2011</td>\n",
       "      <td>29,41358884</td>\n",
       "      <td>3,150725721</td>\n",
       "      <td>19,98003793</td>\n",
       "    </tr>\n",
       "    <tr>\n",
       "      <th>23</th>\n",
       "      <td>2012</td>\n",
       "      <td>29,10286807</td>\n",
       "      <td>2,926030878</td>\n",
       "      <td>20,24407005</td>\n",
       "    </tr>\n",
       "    <tr>\n",
       "      <th>24</th>\n",
       "      <td>2013</td>\n",
       "      <td>28,19128918</td>\n",
       "      <td>2,993600488</td>\n",
       "      <td>20,44181257</td>\n",
       "    </tr>\n",
       "    <tr>\n",
       "      <th>25</th>\n",
       "      <td>2014</td>\n",
       "      <td>27,93152706</td>\n",
       "      <td>3,360605488</td>\n",
       "      <td>20,69024421</td>\n",
       "    </tr>\n",
       "    <tr>\n",
       "      <th>26</th>\n",
       "      <td>2015</td>\n",
       "      <td>29,79405999</td>\n",
       "      <td>3,873104487</td>\n",
       "      <td>20,65595987</td>\n",
       "    </tr>\n",
       "    <tr>\n",
       "      <th>27</th>\n",
       "      <td>2016</td>\n",
       "      <td>29,17390507</td>\n",
       "      <td>3,840217285</td>\n",
       "      <td>20,66363686</td>\n",
       "    </tr>\n",
       "    <tr>\n",
       "      <th>28</th>\n",
       "      <td>2017</td>\n",
       "      <td>30,67329689</td>\n",
       "      <td>3,55363209</td>\n",
       "      <td>20,78564336</td>\n",
       "    </tr>\n",
       "    <tr>\n",
       "      <th>29</th>\n",
       "      <td>2018</td>\n",
       "      <td>32,55429805</td>\n",
       "      <td>3,394253381</td>\n",
       "      <td>20,78764357</td>\n",
       "    </tr>\n",
       "    <tr>\n",
       "      <th>30</th>\n",
       "      <td>2019</td>\n",
       "      <td>32,15049584</td>\n",
       "      <td>3,530302914</td>\n",
       "      <td>20,79532298</td>\n",
       "    </tr>\n",
       "    <tr>\n",
       "      <th>31</th>\n",
       "      <td>2020</td>\n",
       "      <td>29,71712458</td>\n",
       "      <td>4,006351634</td>\n",
       "      <td>20,44472269</td>\n",
       "    </tr>\n",
       "    <tr>\n",
       "      <th>32</th>\n",
       "      <td>2021</td>\n",
       "      <td>31,77213467</td>\n",
       "      <td>3,870001244</td>\n",
       "      <td>20,66284785</td>\n",
       "    </tr>\n",
       "    <tr>\n",
       "      <th>33</th>\n",
       "      <td>2022</td>\n",
       "      <td>32,7935316</td>\n",
       "      <td>3,901417713</td>\n",
       "      <td>15,58521122</td>\n",
       "    </tr>\n",
       "  </tbody>\n",
       "</table>\n",
       "</div>"
      ],
      "text/plain": [
       "    year      factory         agro       import\n",
       "0   1989  46,59685864  15,60209424   21,0122164\n",
       "1   1990  45,00357032  15,46103695  17,94473766\n",
       "2   1991   45,8648552  13,77189846  12,98534144\n",
       "3   1992  42,25027144  7,263364019  48,25460284\n",
       "4   1993  40,52550522  7,557203778  30,49384876\n",
       "5   1994  41,21529267  6,109561032  23,19533361\n",
       "6   1995  34,53919264  6,692231083  25,89389412\n",
       "7   1996  35,34670425  6,549375242  21,84951269\n",
       "8   1997  34,68922704  5,869762144  22,52707988\n",
       "9   1998  33,94402924  5,103393148  24,55104781\n",
       "10  1999  33,49620125  6,580647609  26,17331299\n",
       "11  2000  33,91897032  5,751715628  24,03346573\n",
       "12  2001  31,83735412  5,875721568  24,21736507\n",
       "13  2002  29,05639281  5,565713753  24,43285167\n",
       "14  2003  28,65313499  5,502946052  23,87828723\n",
       "15  2004  31,70222243  4,904441948  22,16396134\n",
       "16  2005  32,62923207  4,255916006  21,51018253\n",
       "17  2006  31,78026059  3,861312471  21,00292642\n",
       "18  2007   31,2220408  3,778901706  21,54206226\n",
       "19  2008   30,7868817  3,753341188  22,07290571\n",
       "20  2009  29,32693903  4,084448697  20,49695982\n",
       "21  2010  29,99958822  3,343898249   21,1399447\n",
       "22  2011  29,41358884  3,150725721  19,98003793\n",
       "23  2012  29,10286807  2,926030878  20,24407005\n",
       "24  2013  28,19128918  2,993600488  20,44181257\n",
       "25  2014  27,93152706  3,360605488  20,69024421\n",
       "26  2015  29,79405999  3,873104487  20,65595987\n",
       "27  2016  29,17390507  3,840217285  20,66363686\n",
       "28  2017  30,67329689   3,55363209  20,78564336\n",
       "29  2018  32,55429805  3,394253381  20,78764357\n",
       "30  2019  32,15049584  3,530302914  20,79532298\n",
       "31  2020  29,71712458  4,006351634  20,44472269\n",
       "32  2021  31,77213467  3,870001244  20,66284785\n",
       "33  2022   32,7935316  3,901417713  15,58521122"
      ]
     },
     "execution_count": 6,
     "metadata": {},
     "output_type": "execute_result"
    }
   ],
   "source": [
    "data = pd.read_csv('WB_Russia.csv', delimiter=';')\n",
    "data"
   ]
  },
  {
   "cell_type": "markdown",
   "id": "5f2b9bce",
   "metadata": {},
   "source": [
    "**Построим графики выбранных показателей.**"
   ]
  },
  {
   "cell_type": "code",
   "execution_count": 11,
   "id": "f35987f3",
   "metadata": {},
   "outputs": [],
   "source": [
    "data['factory'] = data['factory'].str.replace(',', '.').astype(float)\n",
    "data['agro'] = data['agro'].str.replace(',', '.').astype(float)\n",
    "data['import'] = data['import'].str.replace(',', '.').astype(float)\n"
   ]
  },
  {
   "cell_type": "code",
   "execution_count": 23,
   "id": "b8eb5300",
   "metadata": {},
   "outputs": [
    {
     "data": {
      "image/png": "[encoded data removed]",
      "text/plain": [
       "<Figure size 1000x500 with 3 Axes>"
      ]
     },
     "metadata": {},
     "output_type": "display_data"
    }
   ],
   "source": [
    "plt.figure(figsize=(10, 5))\n",
    "\n",
    "plt.subplot(131)\n",
    "plt.plot(data['year'], data['factory'], marker='o')\n",
    "plt.xlabel('Year')\n",
    "plt.ylabel('Factory')\n",
    "plt.title('Factory vs Year')\n",
    "\n",
    "plt.subplot(132)\n",
    "plt.plot(data['year'], data['agro'], marker='o')\n",
    "plt.xlabel('Year')\n",
    "plt.ylabel('Agro')\n",
    "plt.title('Agro vs Year')\n",
    "\n",
    "plt.subplot(133)\n",
    "plt.plot(data['year'], data['import'], marker='o')\n",
    "plt.xlabel('Year')\n",
    "plt.ylabel('Import')\n",
    "plt.title('Import vs Year')\n",
    "\n",
    "plt.tight_layout()\n",
    "plt.show()"
   ]
  },
  {
   "cell_type": "markdown",
   "id": "81118926",
   "metadata": {},
   "source": [
    "Первый график показывает явное присутствие положительного тренда, с большой вероятностью первый временной ряд не стационарен. По двум другим графикам сложно определить стационарность ряда, необходимы строкие тесты, однако, на первый взгляд кажется, что и они не стационарны."
   ]
  },
  {
   "cell_type": "markdown",
   "id": "b03febed",
   "metadata": {},
   "source": [
    "# Тесты единичного корня"
   ]
  },
  {
   "cell_type": "markdown",
   "id": "158ac7a0",
   "metadata": {},
   "source": [
    "**Проведем тесты единичного корня для ряда \"Промышленность\":**"
   ]
  },
  {
   "cell_type": "code",
   "execution_count": 14,
   "id": "05027f54",
   "metadata": {},
   "outputs": [],
   "source": [
    "from arch.unitroot import PhillipsPerron\n",
    "from arch.unitroot import ADF\n",
    "from arch.unitroot import KPSS"
   ]
  },
  {
   "cell_type": "code",
   "execution_count": 16,
   "id": "dc48da4a",
   "metadata": {},
   "outputs": [],
   "source": [
    "def unit_root_tests(data):\n",
    "    results = {}\n",
    "    print(\"Проведение ADF теста без тренда:\")\n",
    "    adf_test = ADF(data, trend='n')\n",
    "    print(f'ADF Statistic: {adf_test.stat}')\n",
    "    print(f'p-value: {adf_test.pvalue}')\n",
    "    results['ADF'] = [adf_test.null_hypothesis, adf_test.stat, adf_test.pvalue]\n",
    "\n",
    "    print(\"\\nПроведение ADF теста с трендом:\")\n",
    "    adf_test = ADF(data, trend='ct')\n",
    "    print(f'ADF Statistic: {adf_test.stat}')\n",
    "    print(f'p-value: {adf_test.pvalue}')\n",
    "    results['trend_ADF'] = [adf_test.null_hypothesis, adf_test.stat, adf_test.pvalue]\n",
    "    \n",
    "    print(\"\\nПроведение PP теста без тренда:\")\n",
    "    pp_test = PhillipsPerron(data, trend='n')\n",
    "    print(f'PP Statistic: {pp_test.stat}')\n",
    "    print(f'p-value: {pp_test.pvalue}')\n",
    "    results['PP'] = [pp_test.null_hypothesis, pp_test.stat, pp_test.pvalue]\n",
    "\n",
    "    print(\"\\nПроведение PP теста с трендом:\")\n",
    "    pp_test = PhillipsPerron(data, trend='ct')\n",
    "    print(f'PP Statistic: {pp_test.stat}')\n",
    "    print(f'p-value: {pp_test.pvalue}')\n",
    "    results['trend_PP'] = [pp_test.null_hypothesis, pp_test.stat, pp_test.pvalue]\n",
    "    \n",
    "    print(\"\\nПроведение KPSS теста без тренда:\")\n",
    "    kpss_test = KPSS(data, trend='c')\n",
    "    print(f'KPSS Statistic: {kpss_test.stat}')\n",
    "    print(f'p-value: {kpss_test.pvalue}')\n",
    "    results['KPSS'] = [kpss_test.null_hypothesis, kpss_test.stat, kpss_test.pvalue]\n",
    "\n",
    "    print(\"\\nПроведение KPSS теста с трендом:\")\n",
    "    kpss_test = KPSS(data, trend='ct')\n",
    "    print(f'KPSS Statistic: {kpss_test.stat}')\n",
    "    print(f'p-value: {kpss_test.pvalue}')\n",
    "    results['trend_KPSS'] = [kpss_test.null_hypothesis, kpss_test.stat, kpss_test.pvalue]\n",
    "\n",
    "    return results\n",
    "    "
   ]
  },
  {
   "cell_type": "code",
   "execution_count": 31,
   "id": "2dc138e9",
   "metadata": {},
   "outputs": [
    {
     "name": "stdout",
     "output_type": "stream",
     "text": [
      "Проведение ADF теста без тренда:\n",
      "ADF Statistic: -1.8353552692462558\n",
      "p-value: 0.06326383763196063\n",
      "\n",
      "Проведение ADF теста с трендом:\n",
      "ADF Statistic: -2.1457020285470922\n",
      "p-value: 0.5204286832834046\n",
      "\n",
      "Проведение PP теста без тренда:\n",
      "PP Statistic: -1.6811429345788929\n",
      "p-value: 0.08776021600419004\n",
      "\n",
      "Проведение PP теста с трендом:\n",
      "PP Statistic: -1.216336185205997\n",
      "p-value: 0.9071016239515767\n",
      "\n",
      "Проведение KPSS теста без тренда:\n",
      "KPSS Statistic: 0.6626902842566206\n",
      "p-value: 0.015757339463986192\n",
      "\n",
      "Проведение KPSS теста с трендом:\n",
      "KPSS Statistic: 0.22200707192550578\n",
      "p-value: 0.009041048526488134\n"
     ]
    }
   ],
   "source": [
    "res_1 = unit_root_tests(data['factory'])"
   ]
  },
  {
   "cell_type": "markdown",
   "id": "0a52ea1b",
   "metadata": {},
   "source": [
    "Рассмотрим результаты различных тестов на единичный корень для временного ряда \"Промышленность\":\n",
    "1. Согласно расширенным тестам Дики-Фуллера (ADF) с трендом и без тренда, мы **не можем отвергнуть нулевую гитотезу** о наличии единиченого корня, что означает, что данный временной ряд **не стационарен**, (p-value > 0.05)\n",
    "\n",
    "2. Согласно тестам Филлипса-Перрона (PP) с трендом и без тренда, мы **не можем отвергнуть нулевую гитотезу** о наличии единиченого корня, что означает, что данный временной ряд **не стационарен**, (p-value > 0.05)\n",
    "\n",
    "3. Согласно KPSS тестам с трендом и без тренда, мы **отвергаем нулевую гитотезу** о стационарности, что означает, что данный временной ряд **не стационарен**, (p-value < 0.05)\n",
    "\n",
    "\n",
    "Вывод: по результатам всех проведенных тестов временной ряд \"Промышленность\" **не стационарен**"
   ]
  },
  {
   "cell_type": "markdown",
   "id": "d7969195",
   "metadata": {},
   "source": []
  },
  {
   "cell_type": "markdown",
   "id": "ada1aa36",
   "metadata": {},
   "source": [
    "**Проведем тесты единичного корня для ряда \"Сельское хозяйство\":**"
   ]
  },
  {
   "cell_type": "code",
   "execution_count": 30,
   "id": "35730945",
   "metadata": {},
   "outputs": [
    {
     "name": "stdout",
     "output_type": "stream",
     "text": [
      "Проведение ADF теста без тренда:\n",
      "ADF Statistic: -3.3931546858067954\n",
      "p-value: 0.0007076702279274331\n",
      "\n",
      "Проведение ADF теста с трендом:\n",
      "ADF Statistic: -3.0726175727420526\n",
      "p-value: 0.11289593966368017\n",
      "\n",
      "Проведение PP теста без тренда:\n",
      "PP Statistic: -3.5285698558745113\n",
      "p-value: 0.0004363205612455883\n",
      "\n",
      "Проведение PP теста с трендом:\n",
      "PP Statistic: -4.181862852536234\n",
      "p-value: 0.004767640224906304\n",
      "\n",
      "Проведение KPSS теста без тренда:\n",
      "KPSS Statistic: 0.6994797027664249\n",
      "p-value: 0.012991733234362922\n",
      "\n",
      "Проведение KPSS теста с трендом:\n",
      "KPSS Statistic: 0.18231588545081198\n",
      "p-value: 0.022466038427416502\n"
     ]
    }
   ],
   "source": [
    "res_2 = unit_root_tests(data['agro'])"
   ]
  },
  {
   "cell_type": "markdown",
   "id": "8437e88d",
   "metadata": {},
   "source": [
    "Рассмотрим результаты различных тестов на единичный корень для временного ряда \"Сельское хозяйство\":\n",
    "1. Согласно расширенным тестам Дики-Фуллера (ADF) без тренда, мы **отвергаем нулевую гитотезу** о наличии единиченого корня, что означает, что данный временной ряд **стационарен**, (p-value < 0.05)\n",
    "\n",
    "2. Согласно расширенным тестам Дики-Фуллера (ADF) с тренда, мы **не можем отвергнуть нулевую гитотезу** о наличии единиченого корня, что означает, что данный временной ряд **не стационарен**, (p-value > 0.05)\n",
    "\n",
    "3. Согласно тестам Филлипса-Перрона (PP) с трендом и без тренда, мы **отвергаем нулевую гитотезу** о стационарности, что означает, что данный временной ряд **не стационарен**, (p-value < 0.05)\n",
    "\n",
    "4. Согласно KPSS тестам с трендом и без тренда, мы **отвергаем нулевую гитотезу** о стационарности, что означает, что данный временной ряд **не стационарен**, (p-value < 0.05)\n",
    "\n",
    "\n",
    "Вывод: по результатам всех проведенных тестов временной ряд \"Сельское хозяйство\" скорее всего **не стационарен**"
   ]
  },
  {
   "cell_type": "markdown",
   "id": "a3bf5818",
   "metadata": {},
   "source": [
    "**Проведем тесты единичного корня для ряда \"Импорт\":**"
   ]
  },
  {
   "cell_type": "code",
   "execution_count": 29,
   "id": "3641e676",
   "metadata": {},
   "outputs": [
    {
     "name": "stdout",
     "output_type": "stream",
     "text": [
      "Проведение ADF теста без тренда:\n",
      "ADF Statistic: -0.6167394200646379\n",
      "p-value: 0.44761803184147636\n",
      "\n",
      "Проведение ADF теста с трендом:\n",
      "ADF Statistic: -5.707334139219228\n",
      "p-value: 8.8497077996727e-06\n",
      "\n",
      "Проведение PP теста без тренда:\n",
      "PP Statistic: -0.7061253013077096\n",
      "p-value: 0.41002932156702093\n",
      "\n",
      "Проведение PP теста с трендом:\n",
      "PP Statistic: -7.486595397546937\n",
      "p-value: 1.0941381910641903e-09\n",
      "\n",
      "Проведение KPSS теста без тренда:\n",
      "KPSS Statistic: 0.5421101475656058\n",
      "p-value: 0.03125749105909664\n",
      "\n",
      "Проведение KPSS теста с трендом:\n",
      "KPSS Statistic: 0.10625748645534845\n",
      "p-value: 0.13820165659565017\n"
     ]
    }
   ],
   "source": [
    "res_3 = unit_root_tests(data['import'])"
   ]
  },
  {
   "cell_type": "markdown",
   "id": "9a8a8e21",
   "metadata": {},
   "source": [
    "Рассмотрим результаты различных тестов на единичный корень для временного ряда \"Импорт\":\n",
    "1. Согласно расширенным тестам Дики-Фуллера (ADF) с трендом и без тренда, мы **не можем отвергнуть нулевую гитотезу** о наличии единиченого корня, что означает что данный временной ряд **не стационарен**, (p-value > 0.05)\n",
    "\n",
    "2. Согласно тестам Филлипса-Перрона (PP) с трендом и без тренда, мы **не можем отвергнуть нулевую гитотезу** о наличии единиченого корня, что означает что данный временной ряд **не стационарен**, (p-value > 0.05)\n",
    "\n",
    "3. Согласно KPSS тесту без тренда, мы **отвергаем нулевую гитотезу** о стационарности, что означает что данный временной ряд **не стационарен**, (p-value < 0.05)\n",
    "\n",
    "4. Согласно KPSS тесту с трендом, мы **не можем отвергнуть нулевую гитотезу** о стационарности, что означает что данный временной ряд **стационарен**, (p-value > 0.05)\n",
    "\n",
    "\n",
    "Вывод: Временной ряд \"Импорт\" скорее всего **не стационарен**"
   ]
  },
  {
   "cell_type": "markdown",
   "id": "f6c8b5de",
   "metadata": {},
   "source": [
    "**Рассчитаем значения временного ряда цепного прироста для импорта и проведём для него тесты единиченого корня:**"
   ]
  },
  {
   "cell_type": "code",
   "execution_count": 34,
   "id": "e6c8bf77",
   "metadata": {},
   "outputs": [],
   "source": [
    "def for_dy(data):\n",
    "    results = {}\n",
    "    print(\"Проведение ADF теста без тренда:\")\n",
    "    adf_test = ADF(data, trend='n')\n",
    "    print(f'ADF Statistic: {adf_test.stat}')\n",
    "    print(f'p-value: {adf_test.pvalue}')\n",
    "    results['ADF'] = [adf_test.null_hypothesis, adf_test.stat, adf_test.pvalue]\n",
    "\n",
    "    print(\"\\nПроведение ADF теста с трендом:\")\n",
    "    adf_test = ADF(data, trend='ct')\n",
    "    print(f'ADF Statistic: {adf_test.stat}')\n",
    "    print(f'p-value: {adf_test.pvalue}')\n",
    "    results['trend_ADF'] = [adf_test.null_hypothesis, adf_test.stat, adf_test.pvalue]\n",
    "    \n",
    "    print(\"\\nПроведение PP теста без тренда:\")\n",
    "    pp_test = PhillipsPerron(data, trend='n')\n",
    "    print(f'PP Statistic: {pp_test.stat}')\n",
    "    print(f'p-value: {pp_test.pvalue}')\n",
    "    results['PP'] = [pp_test.null_hypothesis, pp_test.stat, pp_test.pvalue]\n",
    "\n",
    "    print(\"\\nПроведение PP теста с трендом:\")\n",
    "    pp_test = PhillipsPerron(data, trend='ct')\n",
    "    print(f'PP Statistic: {pp_test.stat}')\n",
    "    print(f'p-value: {pp_test.pvalue}')\n",
    "    results['trend_PP'] = [pp_test.null_hypothesis, pp_test.stat, pp_test.pvalue]\n",
    "    return results\n"
   ]
  },
  {
   "cell_type": "code",
   "execution_count": 35,
   "id": "281ee10d",
   "metadata": {},
   "outputs": [
    {
     "name": "stdout",
     "output_type": "stream",
     "text": [
      "Проведение ADF теста без тренда:\n",
      "ADF Statistic: -8.54127403010809\n",
      "p-value: 1.9053567114578743e-14\n",
      "\n",
      "Проведение ADF теста с трендом:\n",
      "ADF Statistic: -8.32372908912024\n",
      "p-value: 1.2771884972646413e-11\n",
      "\n",
      "Проведение PP теста без тренда:\n",
      "PP Statistic: -14.19995102288258\n",
      "p-value: 1.378916016659514e-25\n",
      "\n",
      "Проведение PP теста с трендом:\n",
      "PP Statistic: -13.885554275062741\n",
      "p-value: 1.3998184487146321e-21\n"
     ]
    }
   ],
   "source": [
    "d_y = pd.DataFrame(columns=['d_import'])\n",
    "for i in np.array(data.index)[1:]:\n",
    "    d_y.loc[ len(d_y.index )] = data['import'][i] - data['import'][i-1]\n",
    "res_d_3 = for_dy(d_y['d_import'])\n",
    "# d_y['d_import']"
   ]
  },
  {
   "cell_type": "markdown",
   "id": "f39a711e",
   "metadata": {},
   "source": [
    "Рассмотрим результаты различных тестов на единичный корень для временного ряда цепного прироста ряда \"Импорт\":\n",
    "1. Согласно расширенным тестам Дики-Фуллера (ADF) с трендом и без тренда, мы **отвергаем нулевую гитотезу** о наличии единиченого корня, что означает что данный временной ряд **стационарен**, (p-value > 0.05)\n",
    "\n",
    "2. Согласно тестам Филлипса-Перрона (PP) с трендом и без тренда, мы **отвергаем нулевую гитотезу** о наличии единиченого корня, что означает что данный временной ряд **стационарен**, (p-value > 0.05)\n",
    "\n",
    "Вывод: Временной ряд цепного прироста ряда \"Импорт\" скорее всего **стационарен**"
   ]
  },
  {
   "cell_type": "markdown",
   "id": "1edcd326",
   "metadata": {},
   "source": [
    "**Построим график временного ряда цепного прироста для импорта**"
   ]
  },
  {
   "cell_type": "code",
   "execution_count": 28,
   "id": "ee8725e8",
   "metadata": {},
   "outputs": [
    {
     "data": {
      "text/plain": [
       "Text(0, 0.5, 'Цепной прирост импорта')"
      ]
     },
     "execution_count": 28,
     "metadata": {},
     "output_type": "execute_result"
    },
    {
     "data": {
      "image/png": "[encoded data removed]",
      "text/plain": [
       "<Figure size 640x480 with 1 Axes>"
      ]
     },
     "metadata": {},
     "output_type": "display_data"
    }
   ],
   "source": [
    "plt.plot(d_y['d_import'])\n",
    "plt.title('График цепного прироста импорта')\n",
    "plt.xlabel('t')\n",
    "plt.ylabel('Цепной прирост импорта')"
   ]
  },
  {
   "cell_type": "markdown",
   "id": "6e2e18c0",
   "metadata": {},
   "source": [
    "**Выведем результаты тестов единичного корня для импорта и цепного прироста импорта в виде сводной таблицы:**"
   ]
  },
  {
   "cell_type": "code",
   "execution_count": 36,
   "id": "bc14d65f",
   "metadata": {},
   "outputs": [
    {
     "data": {
      "text/html": [
       "<div>\n",
       "<style scoped>\n",
       "    .dataframe tbody tr th:only-of-type {\n",
       "        vertical-align: middle;\n",
       "    }\n",
       "\n",
       "    .dataframe tbody tr th {\n",
       "        vertical-align: top;\n",
       "    }\n",
       "\n",
       "    .dataframe thead th {\n",
       "        text-align: right;\n",
       "    }\n",
       "</style>\n",
       "<table border=\"1\" class=\"dataframe\">\n",
       "  <thead>\n",
       "    <tr style=\"text-align: right;\">\n",
       "      <th></th>\n",
       "      <th>ВР</th>\n",
       "      <th>Тест</th>\n",
       "      <th>Нулевая гипотеза</th>\n",
       "      <th>Статистика критерия</th>\n",
       "      <th>p-value</th>\n",
       "      <th>Вывод</th>\n",
       "    </tr>\n",
       "  </thead>\n",
       "  <tbody>\n",
       "    <tr>\n",
       "      <th>0</th>\n",
       "      <td>y</td>\n",
       "      <td>ADF</td>\n",
       "      <td>The process contains a unit root.</td>\n",
       "      <td>-0.616739</td>\n",
       "      <td>4.476180e-01</td>\n",
       "      <td>Не можем отвергнуть нулевую гипотезу.</td>\n",
       "    </tr>\n",
       "    <tr>\n",
       "      <th>1</th>\n",
       "      <td>y</td>\n",
       "      <td>trend_ADF</td>\n",
       "      <td>The process contains a unit root.</td>\n",
       "      <td>-5.707334</td>\n",
       "      <td>8.849708e-06</td>\n",
       "      <td>Отвергаем нулевую гипотезу.</td>\n",
       "    </tr>\n",
       "    <tr>\n",
       "      <th>2</th>\n",
       "      <td>y</td>\n",
       "      <td>PP</td>\n",
       "      <td>The process contains a unit root.</td>\n",
       "      <td>-0.706125</td>\n",
       "      <td>4.100293e-01</td>\n",
       "      <td>Не можем отвергнуть нулевую гипотезу.</td>\n",
       "    </tr>\n",
       "    <tr>\n",
       "      <th>3</th>\n",
       "      <td>y</td>\n",
       "      <td>trend_PP</td>\n",
       "      <td>The process contains a unit root.</td>\n",
       "      <td>-7.486595</td>\n",
       "      <td>1.094138e-09</td>\n",
       "      <td>Отвергаем нулевую гипотезу.</td>\n",
       "    </tr>\n",
       "    <tr>\n",
       "      <th>4</th>\n",
       "      <td>y</td>\n",
       "      <td>KPSS</td>\n",
       "      <td>The process is weakly stationary.</td>\n",
       "      <td>0.542110</td>\n",
       "      <td>3.125749e-02</td>\n",
       "      <td>Отвергаем нулевую гипотезу.</td>\n",
       "    </tr>\n",
       "    <tr>\n",
       "      <th>5</th>\n",
       "      <td>y</td>\n",
       "      <td>trend_KPSS</td>\n",
       "      <td>The process is weakly stationary.</td>\n",
       "      <td>0.106257</td>\n",
       "      <td>1.382017e-01</td>\n",
       "      <td>Не можем отвергнуть нулевую гипотезу.</td>\n",
       "    </tr>\n",
       "    <tr>\n",
       "      <th>6</th>\n",
       "      <td>Δy</td>\n",
       "      <td>ADF</td>\n",
       "      <td>The process contains a unit root.</td>\n",
       "      <td>-8.541274</td>\n",
       "      <td>1.905357e-14</td>\n",
       "      <td>Отвергаем нулевую гипотезу.</td>\n",
       "    </tr>\n",
       "    <tr>\n",
       "      <th>7</th>\n",
       "      <td>Δy</td>\n",
       "      <td>trend_ADF</td>\n",
       "      <td>The process contains a unit root.</td>\n",
       "      <td>-8.323729</td>\n",
       "      <td>1.277188e-11</td>\n",
       "      <td>Отвергаем нулевую гипотезу.</td>\n",
       "    </tr>\n",
       "    <tr>\n",
       "      <th>8</th>\n",
       "      <td>Δy</td>\n",
       "      <td>PP</td>\n",
       "      <td>The process contains a unit root.</td>\n",
       "      <td>-14.199951</td>\n",
       "      <td>1.378916e-25</td>\n",
       "      <td>Отвергаем нулевую гипотезу.</td>\n",
       "    </tr>\n",
       "    <tr>\n",
       "      <th>9</th>\n",
       "      <td>Δy</td>\n",
       "      <td>trend_PP</td>\n",
       "      <td>The process contains a unit root.</td>\n",
       "      <td>-13.885554</td>\n",
       "      <td>1.399818e-21</td>\n",
       "      <td>Отвергаем нулевую гипотезу.</td>\n",
       "    </tr>\n",
       "  </tbody>\n",
       "</table>\n",
       "</div>"
      ],
      "text/plain": [
       "   ВР        Тест                   Нулевая гипотеза  Статистика критерия  \\\n",
       "0   y         ADF  The process contains a unit root.            -0.616739   \n",
       "1   y   trend_ADF  The process contains a unit root.            -5.707334   \n",
       "2   y          PP  The process contains a unit root.            -0.706125   \n",
       "3   y    trend_PP  The process contains a unit root.            -7.486595   \n",
       "4   y        KPSS  The process is weakly stationary.             0.542110   \n",
       "5   y  trend_KPSS  The process is weakly stationary.             0.106257   \n",
       "6  Δy         ADF  The process contains a unit root.            -8.541274   \n",
       "7  Δy   trend_ADF  The process contains a unit root.            -8.323729   \n",
       "8  Δy          PP  The process contains a unit root.           -14.199951   \n",
       "9  Δy    trend_PP  The process contains a unit root.           -13.885554   \n",
       "\n",
       "        p-value                                   Вывод  \n",
       "0  4.476180e-01  Не можем отвергнуть нулевую гипотезу.   \n",
       "1  8.849708e-06            Отвергаем нулевую гипотезу.   \n",
       "2  4.100293e-01  Не можем отвергнуть нулевую гипотезу.   \n",
       "3  1.094138e-09            Отвергаем нулевую гипотезу.   \n",
       "4  3.125749e-02            Отвергаем нулевую гипотезу.   \n",
       "5  1.382017e-01  Не можем отвергнуть нулевую гипотезу.   \n",
       "6  1.905357e-14            Отвергаем нулевую гипотезу.   \n",
       "7  1.277188e-11            Отвергаем нулевую гипотезу.   \n",
       "8  1.378916e-25            Отвергаем нулевую гипотезу.   \n",
       "9  1.399818e-21            Отвергаем нулевую гипотезу.   "
      ]
     },
     "execution_count": 36,
     "metadata": {},
     "output_type": "execute_result"
    }
   ],
   "source": [
    "res_table_y = pd.DataFrame(columns = ['ВР', 'Тест', 'Нулевая гипотеза', 'Статистика критерия', 'p-value', 'Вывод'])\n",
    "for key in res_3.keys():\n",
    "    conclusion = ''\n",
    "    if res_3[key][2] >=0.05:\n",
    "        conclusion += 'Не можем отвергнуть нулевую гипотезу. '\n",
    "    else:\n",
    "        conclusion += 'Отвергаем нулевую гипотезу. '\n",
    "    res_table_y.loc[len(res_table_y.index)] = ['y', key, res_3[key][0], res_3[key][1], res_3[key][2], conclusion]\n",
    "\n",
    "for key in res_d_3.keys():\n",
    "    conclusion = ''\n",
    "    if res_d_3[key][2] >=0.05:\n",
    "        conclusion += 'Не можем отвергнуть нулевую гипотезу. '\n",
    "    else:\n",
    "        conclusion += 'Отвергаем нулевую гипотезу. '\n",
    "    res_table_y.loc[len(res_table_y.index)] = ['Δy', key, res_d_3[key][0], res_d_3[key][1], res_d_3[key][2], conclusion]\n",
    "res_table_y  "
   ]
  },
  {
   "cell_type": "markdown",
   "id": "98fd35e0",
   "metadata": {},
   "source": [
    "Видим, что временной ряд цепного прироста импорта является не стационарным рядом, как и исходный временной ряд.\n",
    "\n",
    "?????????????Так как цепной прирост это разность первого порядка от исходного временного ряда, то можем сделать предположение о степени интегрируемости данного временного ряда равной 1 и ряд имеет разностно-стационарный характер.?????????"
   ]
  },
  {
   "cell_type": "markdown",
   "id": "b9a0b9b2",
   "metadata": {},
   "source": [
    "**Рассчитаем степени интегрируемости для наших времянных рядов**"
   ]
  },
  {
   "cell_type": "code",
   "execution_count": 38,
   "id": "41c7c329",
   "metadata": {},
   "outputs": [],
   "source": [
    "def find_order_of_integration(data):\n",
    "    pv = ADF(data).pvalue\n",
    "    if pv > 0.05:\n",
    "        diff_data = data.diff().dropna()\n",
    "        return 1 + find_order_of_integration(diff_data)\n",
    "    else:\n",
    "        return 0"
   ]
  },
  {
   "cell_type": "code",
   "execution_count": 39,
   "id": "3ac85590",
   "metadata": {},
   "outputs": [
    {
     "name": "stdout",
     "output_type": "stream",
     "text": [
      "Для ВР \"Промышленность\" степень интегрируемости: 0\n",
      "Для ВР \"Сельское хозяйство\" степень интегрируемости: 0\n",
      "Для ВР \"Импорт\" степень интегрируемости: 0\n"
     ]
    }
   ],
   "source": [
    "d1 = find_order_of_integration(data['factory'])\n",
    "d2 = find_order_of_integration(data['agro'])\n",
    "d3 = find_order_of_integration(data['import'])\n",
    "\n",
    "print(f'Для ВР \"Промышленность\" степень интегрируемости: {d1}')\n",
    "print(f'Для ВР \"Сельское хозяйство\" степень интегрируемости: {d2}')\n",
    "print(f'Для ВР \"Импорт\" степень интегрируемости: {d3}')"
   ]
  },
  {
   "cell_type": "markdown",
   "id": "dc9bfbf7",
   "metadata": {},
   "source": [
    "?????????????????Видим, что гипотеза о степени интегрируемости времянного ряда общего коэффициента рождаемости, равного единице подтвердилась. Также степерь интегрируемости остальных рядов $\\ge 1$, что говорит о нестационарности данных времянных рядов.????????????????????"
   ]
  },
  {
   "cell_type": "code",
   "execution_count": 40,
   "id": "a1a7e277",
   "metadata": {},
   "outputs": [],
   "source": [
    "from statsmodels.tsa.stattools import adfuller\n",
    "\n",
    "def check_stationarity(data):\n",
    "    pv = ADF(data).pvalue    \n",
    "    if pv > 0.05:\n",
    "        print(\"Ряд не стационарен. Проверяем на тренд-стационарность.\")\n",
    "        pv = ADF(data, trend = 'ct').pvalue\n",
    "        if pv <= 0.05:\n",
    "            print(\"Ряд тренд-стационарен.\")\n",
    "        else:\n",
    "            print(\"Ряд не тренд-стационарен. Проверяем на разностно-стационарность.\")\n",
    "            diff_data = data.diff().dropna()\n",
    "            pv = ADF(diff_data).pvalue\n",
    "            if pv <= 0.05:\n",
    "                print(\"Ряд разностно-стационарен.\")\n",
    "            else:\n",
    "                print(\"Ряд не разностно-стационарен.\")\n",
    "    else:\n",
    "        print(\"Ряд стационарен.\")"
   ]
  },
  {
   "cell_type": "markdown",
   "id": "2d7a1af3",
   "metadata": {},
   "source": [
    "**Проверим ряды на тренд-стационарность и разностно-стационарность:**"
   ]
  },
  {
   "cell_type": "code",
   "execution_count": 41,
   "id": "78332307",
   "metadata": {},
   "outputs": [
    {
     "name": "stdout",
     "output_type": "stream",
     "text": [
      "Ряд стационарен.\n"
     ]
    }
   ],
   "source": [
    "check_stationarity(data['factory'])"
   ]
  },
  {
   "cell_type": "code",
   "execution_count": 42,
   "id": "0b7e31b7",
   "metadata": {},
   "outputs": [
    {
     "name": "stdout",
     "output_type": "stream",
     "text": [
      "Ряд стационарен.\n"
     ]
    }
   ],
   "source": [
    "check_stationarity(data['agro'])"
   ]
  },
  {
   "cell_type": "code",
   "execution_count": 43,
   "id": "49c440c3",
   "metadata": {},
   "outputs": [
    {
     "name": "stdout",
     "output_type": "stream",
     "text": [
      "Ряд стационарен.\n"
     ]
    }
   ],
   "source": [
    "check_stationarity(data['import'])"
   ]
  },
  {
   "cell_type": "markdown",
   "id": "5073f680",
   "metadata": {},
   "source": [
    "**Проведем Zivot-Andrews тест для данных об импорте, поскольку график этого ряда больше всего напоминает график со структурным сдвигом.**"
   ]
  },
  {
   "cell_type": "code",
   "execution_count": 44,
   "id": "cb343087",
   "metadata": {},
   "outputs": [
    {
     "name": "stdout",
     "output_type": "stream",
     "text": [
      "        Zivot-Andrews Results        \n",
      "=====================================\n",
      "Test Statistic                 -5.692\n",
      "P-value                         0.002\n",
      "Lags                                0\n",
      "-------------------------------------\n",
      "\n",
      "Trend: Constant\n",
      "Critical Values: -5.28 (1%), -4.81 (5%), -4.57 (10%)\n",
      "Null Hypothesis: The process contains a unit root with a single structural break.\n",
      "Alternative Hypothesis: The process is trend and break stationary.\n"
     ]
    }
   ],
   "source": [
    "from arch.unitroot import ZivotAndrews\n",
    "\n",
    "za_test = ZivotAndrews(data['import'])\n",
    "print(za_test.summary())\n"
   ]
  },
  {
   "cell_type": "markdown",
   "id": "c01de6cf",
   "metadata": {},
   "source": [
    "\n",
    "Нулевая гипотеза (H0): Временной ряд имеет единичный корень с трендом.\n",
    "Альтернативная гипотеза: Временной ряд является трендово-стационарным процессом с однократным в тренде.\n",
    "Тест Zivot-Andrews указывает на то, что временной ряд “Импорт” не стационарен."
   ]
  }
 ],
 "metadata": {
  "kernelspec": {
   "display_name": "Python 3 (ipykernel)",
   "language": "python",
   "name": "python3"
  },
  "language_info": {
   "codemirror_mode": {
    "name": "ipython",
    "version": 3
   },
   "file_extension": ".py",
   "mimetype": "text/x-python",
   "name": "python",
   "nbconvert_exporter": "python",
   "pygments_lexer": "ipython3",
   "version": "3.11.9"
  }
 },
 "nbformat": 4,
 "nbformat_minor": 5
}
